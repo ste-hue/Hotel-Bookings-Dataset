{
  "nbformat": 4,
  "nbformat_minor": 0,
  "metadata": {
    "colab": {
      "name": "Hotel_bookings EDA-Final Capstone",
      "provenance": [],
      "collapsed_sections": [],
      "include_colab_link": true
    },
    "kernelspec": {
      "display_name": "Python 3",
      "name": "python3"
    },
    "language_info": {
      "name": "python"
    }
  },
  "cells": [
    {
      "cell_type": "markdown",
      "metadata": {
        "id": "view-in-github",
        "colab_type": "text"
      },
      "source": [
        "<a href=\"https://colab.research.google.com/github/ste-hue/Hotel-Bookings-Dataset/blob/main/Hotel_bookings_EDA_Final_Capstone.ipynb\" target=\"_parent\"><img src=\"https://colab.research.google.com/assets/colab-badge.svg\" alt=\"Open In Colab\"/></a>"
      ]
    },
    {
      "cell_type": "code",
      "metadata": {
        "id": "4iAkBH42wQQo",
        "colab": {
          "base_uri": "https://localhost:8080/"
        },
        "outputId": "7dbbb2d1-1778-4edd-c77e-7810c680a6f1"
      },
      "source": [
        "from google.colab import drive\n",
        "drive.mount('/content/gdrive')"
      ],
      "execution_count": null,
      "outputs": [
        {
          "output_type": "stream",
          "text": [
            "Drive already mounted at /content/gdrive; to attempt to forcibly remount, call drive.mount(\"/content/gdrive\", force_remount=True).\n"
          ],
          "name": "stdout"
        }
      ]
    },
    {
      "cell_type": "markdown",
      "metadata": {
        "id": "Z_zdcWRix4as"
      },
      "source": [
        "# EXPLORATORY DATA ANALYSIS OF [HOTEL BOOKING DATASET](https://www.kaggle.com/jessemostipak/hotel-booking-demand#:~:text=Metadata-,Download%20(16%20MB),-New%20Notebook)\n",
        "*(click on the blue part of the title to download the dataset)*\n",
        "\n",
        "\n",
        "\n",
        "This data set contains booking information for a city hotel and a resort hotel and includes information such as when the booking was made, length of stay, the number of adults, children, and/or babies, and the number of available parking spaces, among other things. All personally identifying information has from the data. We will perform exploratory data analysis with python to get insight from the data.*\n",
        "\n",
        "*We'll look for insights into the data to maximize profitability and customer segmentation for both hotels.\n",
        "\n"
      ]
    },
    {
      "cell_type": "markdown",
      "metadata": {
        "id": "pQKNOIyCUHr4"
      },
      "source": [
        "# IMPORTING THE DATA AND LIBRARIES"
      ]
    },
    {
      "cell_type": "code",
      "metadata": {
        "id": "tShr6FJNw2ec"
      },
      "source": [
        "import pandas as pd\n",
        "import matplotlib.pyplot as plt\n",
        "import seaborn as sns\n",
        "import numpy as np\n",
        "import scipy as sci\n",
        "import statsmodels.api as sm"
      ],
      "execution_count": null,
      "outputs": []
    },
    {
      "cell_type": "markdown",
      "metadata": {
        "id": "Vw4x08jA7X6c"
      },
      "source": [
        "read the csv file "
      ]
    },
    {
      "cell_type": "code",
      "metadata": {
        "id": "TKarp0bArbxZ",
        "colab": {
          "base_uri": "https://localhost:8080/",
          "height": 360
        },
        "outputId": "39aaab04-f9c6-4467-cf20-ef2441e62e2e"
      },
      "source": [
        "hotel = pd.read_csv('/content/hotel_bookings.csv')\n",
        "hotel.head()"
      ],
      "execution_count": null,
      "outputs": [
        {
          "output_type": "stream",
          "text": [
            "/usr/local/lib/python3.7/dist-packages/IPython/core/interactiveshell.py:2718: DtypeWarning: Columns (36,37,38,39) have mixed types.Specify dtype option on import or set low_memory=False.\n",
            "  interactivity=interactivity, compiler=compiler, result=result)\n"
          ],
          "name": "stderr"
        },
        {
          "output_type": "execute_result",
          "data": {
            "text/html": [
              "<div>\n",
              "<style scoped>\n",
              "    .dataframe tbody tr th:only-of-type {\n",
              "        vertical-align: middle;\n",
              "    }\n",
              "\n",
              "    .dataframe tbody tr th {\n",
              "        vertical-align: top;\n",
              "    }\n",
              "\n",
              "    .dataframe thead th {\n",
              "        text-align: right;\n",
              "    }\n",
              "</style>\n",
              "<table border=\"1\" class=\"dataframe\">\n",
              "  <thead>\n",
              "    <tr style=\"text-align: right;\">\n",
              "      <th></th>\n",
              "      <th>hotel</th>\n",
              "      <th>is_canceled</th>\n",
              "      <th>lead_time</th>\n",
              "      <th>arrival_date_year</th>\n",
              "      <th>arrival_date_month</th>\n",
              "      <th>arrival_date_week_number</th>\n",
              "      <th>arrival_date_day_of_month</th>\n",
              "      <th>stays_in_weekend_nights</th>\n",
              "      <th>stays_in_week_nights</th>\n",
              "      <th>adults</th>\n",
              "      <th>children</th>\n",
              "      <th>babies</th>\n",
              "      <th>meal</th>\n",
              "      <th>country</th>\n",
              "      <th>market_segment</th>\n",
              "      <th>distribution_channel</th>\n",
              "      <th>is_repeated_guest</th>\n",
              "      <th>previous_cancellations</th>\n",
              "      <th>previous_bookings_not_canceled</th>\n",
              "      <th>reserved_room_type</th>\n",
              "      <th>assigned_room_type</th>\n",
              "      <th>booking_changes</th>\n",
              "      <th>deposit_type</th>\n",
              "      <th>agent</th>\n",
              "      <th>company</th>\n",
              "      <th>days_in_waiting_list</th>\n",
              "      <th>customer_type</th>\n",
              "      <th>adr</th>\n",
              "      <th>required_car_parking_spaces</th>\n",
              "      <th>total_of_special_requests</th>\n",
              "      <th>reservation_status</th>\n",
              "      <th>reservation_status_date</th>\n",
              "      <th>Unnamed: 32</th>\n",
              "      <th>Unnamed: 33</th>\n",
              "      <th>Unnamed: 34</th>\n",
              "      <th>Unnamed: 35</th>\n",
              "      <th>Unnamed: 36</th>\n",
              "      <th>Unnamed: 37</th>\n",
              "      <th>Unnamed: 38</th>\n",
              "      <th>Unnamed: 39</th>\n",
              "    </tr>\n",
              "  </thead>\n",
              "  <tbody>\n",
              "    <tr>\n",
              "      <th>0</th>\n",
              "      <td>Resort Hotel</td>\n",
              "      <td>0</td>\n",
              "      <td>342</td>\n",
              "      <td>2015</td>\n",
              "      <td>July</td>\n",
              "      <td>27</td>\n",
              "      <td>1</td>\n",
              "      <td>0</td>\n",
              "      <td>0</td>\n",
              "      <td>2</td>\n",
              "      <td>0.0</td>\n",
              "      <td>0</td>\n",
              "      <td>BB</td>\n",
              "      <td>PRT</td>\n",
              "      <td>Direct</td>\n",
              "      <td>Direct</td>\n",
              "      <td>0</td>\n",
              "      <td>0</td>\n",
              "      <td>0</td>\n",
              "      <td>C</td>\n",
              "      <td>C</td>\n",
              "      <td>3</td>\n",
              "      <td>No Deposit</td>\n",
              "      <td>NaN</td>\n",
              "      <td>NaN</td>\n",
              "      <td>0</td>\n",
              "      <td>Transient</td>\n",
              "      <td>0.0</td>\n",
              "      <td>0</td>\n",
              "      <td>0</td>\n",
              "      <td>Check-Out</td>\n",
              "      <td>7/1/15</td>\n",
              "      <td>NaN</td>\n",
              "      <td>NaN</td>\n",
              "      <td>NaN</td>\n",
              "      <td>NaN</td>\n",
              "      <td>NaN</td>\n",
              "      <td>NaN</td>\n",
              "      <td>NaN</td>\n",
              "      <td>NaN</td>\n",
              "    </tr>\n",
              "    <tr>\n",
              "      <th>1</th>\n",
              "      <td>Resort Hotel</td>\n",
              "      <td>0</td>\n",
              "      <td>737</td>\n",
              "      <td>2015</td>\n",
              "      <td>July</td>\n",
              "      <td>27</td>\n",
              "      <td>1</td>\n",
              "      <td>0</td>\n",
              "      <td>0</td>\n",
              "      <td>2</td>\n",
              "      <td>0.0</td>\n",
              "      <td>0</td>\n",
              "      <td>BB</td>\n",
              "      <td>PRT</td>\n",
              "      <td>Direct</td>\n",
              "      <td>Direct</td>\n",
              "      <td>0</td>\n",
              "      <td>0</td>\n",
              "      <td>0</td>\n",
              "      <td>C</td>\n",
              "      <td>C</td>\n",
              "      <td>4</td>\n",
              "      <td>No Deposit</td>\n",
              "      <td>NaN</td>\n",
              "      <td>NaN</td>\n",
              "      <td>0</td>\n",
              "      <td>Transient</td>\n",
              "      <td>0.0</td>\n",
              "      <td>0</td>\n",
              "      <td>0</td>\n",
              "      <td>Check-Out</td>\n",
              "      <td>7/1/15</td>\n",
              "      <td>NaN</td>\n",
              "      <td>NaN</td>\n",
              "      <td>NaN</td>\n",
              "      <td>NaN</td>\n",
              "      <td>NaN</td>\n",
              "      <td>NaN</td>\n",
              "      <td>NaN</td>\n",
              "      <td>NaN</td>\n",
              "    </tr>\n",
              "    <tr>\n",
              "      <th>2</th>\n",
              "      <td>Resort Hotel</td>\n",
              "      <td>0</td>\n",
              "      <td>7</td>\n",
              "      <td>2015</td>\n",
              "      <td>July</td>\n",
              "      <td>27</td>\n",
              "      <td>1</td>\n",
              "      <td>0</td>\n",
              "      <td>1</td>\n",
              "      <td>1</td>\n",
              "      <td>0.0</td>\n",
              "      <td>0</td>\n",
              "      <td>BB</td>\n",
              "      <td>GBR</td>\n",
              "      <td>Direct</td>\n",
              "      <td>Direct</td>\n",
              "      <td>0</td>\n",
              "      <td>0</td>\n",
              "      <td>0</td>\n",
              "      <td>A</td>\n",
              "      <td>C</td>\n",
              "      <td>0</td>\n",
              "      <td>No Deposit</td>\n",
              "      <td>NaN</td>\n",
              "      <td>NaN</td>\n",
              "      <td>0</td>\n",
              "      <td>Transient</td>\n",
              "      <td>75.0</td>\n",
              "      <td>0</td>\n",
              "      <td>0</td>\n",
              "      <td>Check-Out</td>\n",
              "      <td>7/2/15</td>\n",
              "      <td>NaN</td>\n",
              "      <td>NaN</td>\n",
              "      <td>NaN</td>\n",
              "      <td>NaN</td>\n",
              "      <td>NaN</td>\n",
              "      <td>NaN</td>\n",
              "      <td>NaN</td>\n",
              "      <td>NaN</td>\n",
              "    </tr>\n",
              "    <tr>\n",
              "      <th>3</th>\n",
              "      <td>Resort Hotel</td>\n",
              "      <td>0</td>\n",
              "      <td>13</td>\n",
              "      <td>2015</td>\n",
              "      <td>July</td>\n",
              "      <td>27</td>\n",
              "      <td>1</td>\n",
              "      <td>0</td>\n",
              "      <td>1</td>\n",
              "      <td>1</td>\n",
              "      <td>0.0</td>\n",
              "      <td>0</td>\n",
              "      <td>BB</td>\n",
              "      <td>GBR</td>\n",
              "      <td>Corporate</td>\n",
              "      <td>Corporate</td>\n",
              "      <td>0</td>\n",
              "      <td>0</td>\n",
              "      <td>0</td>\n",
              "      <td>A</td>\n",
              "      <td>A</td>\n",
              "      <td>0</td>\n",
              "      <td>No Deposit</td>\n",
              "      <td>304.0</td>\n",
              "      <td>NaN</td>\n",
              "      <td>0</td>\n",
              "      <td>Transient</td>\n",
              "      <td>75.0</td>\n",
              "      <td>0</td>\n",
              "      <td>0</td>\n",
              "      <td>Check-Out</td>\n",
              "      <td>7/2/15</td>\n",
              "      <td>NaN</td>\n",
              "      <td>NaN</td>\n",
              "      <td>NaN</td>\n",
              "      <td>NaN</td>\n",
              "      <td>NaN</td>\n",
              "      <td>NaN</td>\n",
              "      <td>NaN</td>\n",
              "      <td>NaN</td>\n",
              "    </tr>\n",
              "    <tr>\n",
              "      <th>4</th>\n",
              "      <td>Resort Hotel</td>\n",
              "      <td>0</td>\n",
              "      <td>14</td>\n",
              "      <td>2015</td>\n",
              "      <td>July</td>\n",
              "      <td>27</td>\n",
              "      <td>1</td>\n",
              "      <td>0</td>\n",
              "      <td>2</td>\n",
              "      <td>2</td>\n",
              "      <td>0.0</td>\n",
              "      <td>0</td>\n",
              "      <td>BB</td>\n",
              "      <td>GBR</td>\n",
              "      <td>Online TA</td>\n",
              "      <td>TA/TO</td>\n",
              "      <td>0</td>\n",
              "      <td>0</td>\n",
              "      <td>0</td>\n",
              "      <td>A</td>\n",
              "      <td>A</td>\n",
              "      <td>0</td>\n",
              "      <td>No Deposit</td>\n",
              "      <td>240.0</td>\n",
              "      <td>NaN</td>\n",
              "      <td>0</td>\n",
              "      <td>Transient</td>\n",
              "      <td>98.0</td>\n",
              "      <td>0</td>\n",
              "      <td>1</td>\n",
              "      <td>Check-Out</td>\n",
              "      <td>7/3/15</td>\n",
              "      <td>NaN</td>\n",
              "      <td>NaN</td>\n",
              "      <td>NaN</td>\n",
              "      <td>NaN</td>\n",
              "      <td>NaN</td>\n",
              "      <td>NaN</td>\n",
              "      <td>NaN</td>\n",
              "      <td>NaN</td>\n",
              "    </tr>\n",
              "  </tbody>\n",
              "</table>\n",
              "</div>"
            ],
            "text/plain": [
              "          hotel  is_canceled  lead_time  ...  Unnamed: 37 Unnamed: 38  Unnamed: 39\n",
              "0  Resort Hotel            0        342  ...          NaN         NaN          NaN\n",
              "1  Resort Hotel            0        737  ...          NaN         NaN          NaN\n",
              "2  Resort Hotel            0          7  ...          NaN         NaN          NaN\n",
              "3  Resort Hotel            0         13  ...          NaN         NaN          NaN\n",
              "4  Resort Hotel            0         14  ...          NaN         NaN          NaN\n",
              "\n",
              "[5 rows x 40 columns]"
            ]
          },
          "metadata": {},
          "execution_count": 42
        }
      ]
    },
    {
      "cell_type": "markdown",
      "metadata": {
        "id": "lsvlCV_5aFUD"
      },
      "source": [
        "#DATA EXPLORATION"
      ]
    },
    {
      "cell_type": "markdown",
      "metadata": {
        "id": "2biUWpzwGJzY"
      },
      "source": [
        "## General functions"
      ]
    },
    {
      "cell_type": "code",
      "metadata": {
        "id": "n09T5bcQ7Rc7",
        "colab": {
          "base_uri": "https://localhost:8080/",
          "height": 326
        },
        "outputId": "44f88b26-d45c-44bf-ffd2-aecf6026d484"
      },
      "source": [
        "hotel.head()"
      ],
      "execution_count": null,
      "outputs": [
        {
          "output_type": "execute_result",
          "data": {
            "text/html": [
              "<div>\n",
              "<style scoped>\n",
              "    .dataframe tbody tr th:only-of-type {\n",
              "        vertical-align: middle;\n",
              "    }\n",
              "\n",
              "    .dataframe tbody tr th {\n",
              "        vertical-align: top;\n",
              "    }\n",
              "\n",
              "    .dataframe thead th {\n",
              "        text-align: right;\n",
              "    }\n",
              "</style>\n",
              "<table border=\"1\" class=\"dataframe\">\n",
              "  <thead>\n",
              "    <tr style=\"text-align: right;\">\n",
              "      <th></th>\n",
              "      <th>hotel</th>\n",
              "      <th>is_canceled</th>\n",
              "      <th>lead_time</th>\n",
              "      <th>arrival_date_year</th>\n",
              "      <th>arrival_date_month</th>\n",
              "      <th>arrival_date_week_number</th>\n",
              "      <th>arrival_date_day_of_month</th>\n",
              "      <th>stays_in_weekend_nights</th>\n",
              "      <th>stays_in_week_nights</th>\n",
              "      <th>adults</th>\n",
              "      <th>children</th>\n",
              "      <th>babies</th>\n",
              "      <th>meal</th>\n",
              "      <th>country</th>\n",
              "      <th>market_segment</th>\n",
              "      <th>distribution_channel</th>\n",
              "      <th>is_repeated_guest</th>\n",
              "      <th>previous_cancellations</th>\n",
              "      <th>previous_bookings_not_canceled</th>\n",
              "      <th>reserved_room_type</th>\n",
              "      <th>assigned_room_type</th>\n",
              "      <th>booking_changes</th>\n",
              "      <th>deposit_type</th>\n",
              "      <th>agent</th>\n",
              "      <th>company</th>\n",
              "      <th>days_in_waiting_list</th>\n",
              "      <th>customer_type</th>\n",
              "      <th>adr</th>\n",
              "      <th>required_car_parking_spaces</th>\n",
              "      <th>total_of_special_requests</th>\n",
              "      <th>reservation_status</th>\n",
              "      <th>reservation_status_date</th>\n",
              "      <th>Unnamed: 32</th>\n",
              "      <th>Unnamed: 33</th>\n",
              "      <th>Unnamed: 34</th>\n",
              "      <th>Unnamed: 35</th>\n",
              "      <th>Unnamed: 36</th>\n",
              "      <th>Unnamed: 37</th>\n",
              "      <th>Unnamed: 38</th>\n",
              "      <th>Unnamed: 39</th>\n",
              "    </tr>\n",
              "  </thead>\n",
              "  <tbody>\n",
              "    <tr>\n",
              "      <th>0</th>\n",
              "      <td>Resort Hotel</td>\n",
              "      <td>0</td>\n",
              "      <td>342</td>\n",
              "      <td>2015</td>\n",
              "      <td>July</td>\n",
              "      <td>27</td>\n",
              "      <td>1</td>\n",
              "      <td>0</td>\n",
              "      <td>0</td>\n",
              "      <td>2</td>\n",
              "      <td>0.0</td>\n",
              "      <td>0</td>\n",
              "      <td>BB</td>\n",
              "      <td>PRT</td>\n",
              "      <td>Direct</td>\n",
              "      <td>Direct</td>\n",
              "      <td>0</td>\n",
              "      <td>0</td>\n",
              "      <td>0</td>\n",
              "      <td>C</td>\n",
              "      <td>C</td>\n",
              "      <td>3</td>\n",
              "      <td>No Deposit</td>\n",
              "      <td>NaN</td>\n",
              "      <td>NaN</td>\n",
              "      <td>0</td>\n",
              "      <td>Transient</td>\n",
              "      <td>0.0</td>\n",
              "      <td>0</td>\n",
              "      <td>0</td>\n",
              "      <td>Check-Out</td>\n",
              "      <td>7/1/15</td>\n",
              "      <td>NaN</td>\n",
              "      <td>NaN</td>\n",
              "      <td>NaN</td>\n",
              "      <td>NaN</td>\n",
              "      <td>NaN</td>\n",
              "      <td>NaN</td>\n",
              "      <td>NaN</td>\n",
              "      <td>NaN</td>\n",
              "    </tr>\n",
              "    <tr>\n",
              "      <th>1</th>\n",
              "      <td>Resort Hotel</td>\n",
              "      <td>0</td>\n",
              "      <td>737</td>\n",
              "      <td>2015</td>\n",
              "      <td>July</td>\n",
              "      <td>27</td>\n",
              "      <td>1</td>\n",
              "      <td>0</td>\n",
              "      <td>0</td>\n",
              "      <td>2</td>\n",
              "      <td>0.0</td>\n",
              "      <td>0</td>\n",
              "      <td>BB</td>\n",
              "      <td>PRT</td>\n",
              "      <td>Direct</td>\n",
              "      <td>Direct</td>\n",
              "      <td>0</td>\n",
              "      <td>0</td>\n",
              "      <td>0</td>\n",
              "      <td>C</td>\n",
              "      <td>C</td>\n",
              "      <td>4</td>\n",
              "      <td>No Deposit</td>\n",
              "      <td>NaN</td>\n",
              "      <td>NaN</td>\n",
              "      <td>0</td>\n",
              "      <td>Transient</td>\n",
              "      <td>0.0</td>\n",
              "      <td>0</td>\n",
              "      <td>0</td>\n",
              "      <td>Check-Out</td>\n",
              "      <td>7/1/15</td>\n",
              "      <td>NaN</td>\n",
              "      <td>NaN</td>\n",
              "      <td>NaN</td>\n",
              "      <td>NaN</td>\n",
              "      <td>NaN</td>\n",
              "      <td>NaN</td>\n",
              "      <td>NaN</td>\n",
              "      <td>NaN</td>\n",
              "    </tr>\n",
              "    <tr>\n",
              "      <th>2</th>\n",
              "      <td>Resort Hotel</td>\n",
              "      <td>0</td>\n",
              "      <td>7</td>\n",
              "      <td>2015</td>\n",
              "      <td>July</td>\n",
              "      <td>27</td>\n",
              "      <td>1</td>\n",
              "      <td>0</td>\n",
              "      <td>1</td>\n",
              "      <td>1</td>\n",
              "      <td>0.0</td>\n",
              "      <td>0</td>\n",
              "      <td>BB</td>\n",
              "      <td>GBR</td>\n",
              "      <td>Direct</td>\n",
              "      <td>Direct</td>\n",
              "      <td>0</td>\n",
              "      <td>0</td>\n",
              "      <td>0</td>\n",
              "      <td>A</td>\n",
              "      <td>C</td>\n",
              "      <td>0</td>\n",
              "      <td>No Deposit</td>\n",
              "      <td>NaN</td>\n",
              "      <td>NaN</td>\n",
              "      <td>0</td>\n",
              "      <td>Transient</td>\n",
              "      <td>75.0</td>\n",
              "      <td>0</td>\n",
              "      <td>0</td>\n",
              "      <td>Check-Out</td>\n",
              "      <td>7/2/15</td>\n",
              "      <td>NaN</td>\n",
              "      <td>NaN</td>\n",
              "      <td>NaN</td>\n",
              "      <td>NaN</td>\n",
              "      <td>NaN</td>\n",
              "      <td>NaN</td>\n",
              "      <td>NaN</td>\n",
              "      <td>NaN</td>\n",
              "    </tr>\n",
              "    <tr>\n",
              "      <th>3</th>\n",
              "      <td>Resort Hotel</td>\n",
              "      <td>0</td>\n",
              "      <td>13</td>\n",
              "      <td>2015</td>\n",
              "      <td>July</td>\n",
              "      <td>27</td>\n",
              "      <td>1</td>\n",
              "      <td>0</td>\n",
              "      <td>1</td>\n",
              "      <td>1</td>\n",
              "      <td>0.0</td>\n",
              "      <td>0</td>\n",
              "      <td>BB</td>\n",
              "      <td>GBR</td>\n",
              "      <td>Corporate</td>\n",
              "      <td>Corporate</td>\n",
              "      <td>0</td>\n",
              "      <td>0</td>\n",
              "      <td>0</td>\n",
              "      <td>A</td>\n",
              "      <td>A</td>\n",
              "      <td>0</td>\n",
              "      <td>No Deposit</td>\n",
              "      <td>304.0</td>\n",
              "      <td>NaN</td>\n",
              "      <td>0</td>\n",
              "      <td>Transient</td>\n",
              "      <td>75.0</td>\n",
              "      <td>0</td>\n",
              "      <td>0</td>\n",
              "      <td>Check-Out</td>\n",
              "      <td>7/2/15</td>\n",
              "      <td>NaN</td>\n",
              "      <td>NaN</td>\n",
              "      <td>NaN</td>\n",
              "      <td>NaN</td>\n",
              "      <td>NaN</td>\n",
              "      <td>NaN</td>\n",
              "      <td>NaN</td>\n",
              "      <td>NaN</td>\n",
              "    </tr>\n",
              "    <tr>\n",
              "      <th>4</th>\n",
              "      <td>Resort Hotel</td>\n",
              "      <td>0</td>\n",
              "      <td>14</td>\n",
              "      <td>2015</td>\n",
              "      <td>July</td>\n",
              "      <td>27</td>\n",
              "      <td>1</td>\n",
              "      <td>0</td>\n",
              "      <td>2</td>\n",
              "      <td>2</td>\n",
              "      <td>0.0</td>\n",
              "      <td>0</td>\n",
              "      <td>BB</td>\n",
              "      <td>GBR</td>\n",
              "      <td>Online TA</td>\n",
              "      <td>TA/TO</td>\n",
              "      <td>0</td>\n",
              "      <td>0</td>\n",
              "      <td>0</td>\n",
              "      <td>A</td>\n",
              "      <td>A</td>\n",
              "      <td>0</td>\n",
              "      <td>No Deposit</td>\n",
              "      <td>240.0</td>\n",
              "      <td>NaN</td>\n",
              "      <td>0</td>\n",
              "      <td>Transient</td>\n",
              "      <td>98.0</td>\n",
              "      <td>0</td>\n",
              "      <td>1</td>\n",
              "      <td>Check-Out</td>\n",
              "      <td>7/3/15</td>\n",
              "      <td>NaN</td>\n",
              "      <td>NaN</td>\n",
              "      <td>NaN</td>\n",
              "      <td>NaN</td>\n",
              "      <td>NaN</td>\n",
              "      <td>NaN</td>\n",
              "      <td>NaN</td>\n",
              "      <td>NaN</td>\n",
              "    </tr>\n",
              "  </tbody>\n",
              "</table>\n",
              "</div>"
            ],
            "text/plain": [
              "          hotel  is_canceled  lead_time  ...  Unnamed: 37 Unnamed: 38  Unnamed: 39\n",
              "0  Resort Hotel            0        342  ...          NaN         NaN          NaN\n",
              "1  Resort Hotel            0        737  ...          NaN         NaN          NaN\n",
              "2  Resort Hotel            0          7  ...          NaN         NaN          NaN\n",
              "3  Resort Hotel            0         13  ...          NaN         NaN          NaN\n",
              "4  Resort Hotel            0         14  ...          NaN         NaN          NaN\n",
              "\n",
              "[5 rows x 40 columns]"
            ]
          },
          "metadata": {},
          "execution_count": 43
        }
      ]
    },
    {
      "cell_type": "code",
      "metadata": {
        "id": "dhHONBvrxpNR",
        "colab": {
          "base_uri": "https://localhost:8080/"
        },
        "outputId": "037a1b3e-aa90-4a7d-d230-92664db1b202"
      },
      "source": [
        "hotel.info()"
      ],
      "execution_count": null,
      "outputs": [
        {
          "output_type": "stream",
          "text": [
            "<class 'pandas.core.frame.DataFrame'>\n",
            "RangeIndex: 119390 entries, 0 to 119389\n",
            "Data columns (total 40 columns):\n",
            " #   Column                          Non-Null Count   Dtype  \n",
            "---  ------                          --------------   -----  \n",
            " 0   hotel                           119390 non-null  object \n",
            " 1   is_canceled                     119390 non-null  int64  \n",
            " 2   lead_time                       119390 non-null  int64  \n",
            " 3   arrival_date_year               119390 non-null  int64  \n",
            " 4   arrival_date_month              119390 non-null  object \n",
            " 5   arrival_date_week_number        119390 non-null  int64  \n",
            " 6   arrival_date_day_of_month       119390 non-null  int64  \n",
            " 7   stays_in_weekend_nights         119390 non-null  int64  \n",
            " 8   stays_in_week_nights            119390 non-null  int64  \n",
            " 9   adults                          119390 non-null  int64  \n",
            " 10  children                        119386 non-null  float64\n",
            " 11  babies                          119390 non-null  int64  \n",
            " 12  meal                            119390 non-null  object \n",
            " 13  country                         118902 non-null  object \n",
            " 14  market_segment                  119390 non-null  object \n",
            " 15  distribution_channel            119390 non-null  object \n",
            " 16  is_repeated_guest               119390 non-null  int64  \n",
            " 17  previous_cancellations          119390 non-null  int64  \n",
            " 18  previous_bookings_not_canceled  119390 non-null  int64  \n",
            " 19  reserved_room_type              119390 non-null  object \n",
            " 20  assigned_room_type              119390 non-null  object \n",
            " 21  booking_changes                 119390 non-null  int64  \n",
            " 22  deposit_type                    119390 non-null  object \n",
            " 23  agent                           103050 non-null  float64\n",
            " 24  company                         6797 non-null    float64\n",
            " 25  days_in_waiting_list            119390 non-null  int64  \n",
            " 26  customer_type                   119390 non-null  object \n",
            " 27  adr                             119390 non-null  float64\n",
            " 28  required_car_parking_spaces     119390 non-null  int64  \n",
            " 29  total_of_special_requests       119390 non-null  int64  \n",
            " 30  reservation_status              119390 non-null  object \n",
            " 31  reservation_status_date         119390 non-null  object \n",
            " 32  Unnamed: 32                     0 non-null       float64\n",
            " 33  Unnamed: 33                     0 non-null       float64\n",
            " 34  Unnamed: 34                     0 non-null       float64\n",
            " 35  Unnamed: 35                     0 non-null       float64\n",
            " 36  Unnamed: 36                     27 non-null      object \n",
            " 37  Unnamed: 37                     29 non-null      object \n",
            " 38  Unnamed: 38                     28 non-null      object \n",
            " 39  Unnamed: 39                     14 non-null      object \n",
            "dtypes: float64(8), int64(16), object(16)\n",
            "memory usage: 36.4+ MB\n"
          ],
          "name": "stdout"
        }
      ]
    },
    {
      "cell_type": "code",
      "metadata": {
        "id": "_A-danP1QiJL",
        "colab": {
          "base_uri": "https://localhost:8080/",
          "height": 334
        },
        "outputId": "b832e31a-a6ee-4898-9e68-41a02288b379"
      },
      "source": [
        "hotel.describe()"
      ],
      "execution_count": null,
      "outputs": [
        {
          "output_type": "execute_result",
          "data": {
            "text/html": [
              "<div>\n",
              "<style scoped>\n",
              "    .dataframe tbody tr th:only-of-type {\n",
              "        vertical-align: middle;\n",
              "    }\n",
              "\n",
              "    .dataframe tbody tr th {\n",
              "        vertical-align: top;\n",
              "    }\n",
              "\n",
              "    .dataframe thead th {\n",
              "        text-align: right;\n",
              "    }\n",
              "</style>\n",
              "<table border=\"1\" class=\"dataframe\">\n",
              "  <thead>\n",
              "    <tr style=\"text-align: right;\">\n",
              "      <th></th>\n",
              "      <th>is_canceled</th>\n",
              "      <th>lead_time</th>\n",
              "      <th>arrival_date_year</th>\n",
              "      <th>arrival_date_week_number</th>\n",
              "      <th>arrival_date_day_of_month</th>\n",
              "      <th>stays_in_weekend_nights</th>\n",
              "      <th>stays_in_week_nights</th>\n",
              "      <th>adults</th>\n",
              "      <th>children</th>\n",
              "      <th>babies</th>\n",
              "      <th>is_repeated_guest</th>\n",
              "      <th>previous_cancellations</th>\n",
              "      <th>previous_bookings_not_canceled</th>\n",
              "      <th>booking_changes</th>\n",
              "      <th>agent</th>\n",
              "      <th>company</th>\n",
              "      <th>days_in_waiting_list</th>\n",
              "      <th>adr</th>\n",
              "      <th>required_car_parking_spaces</th>\n",
              "      <th>total_of_special_requests</th>\n",
              "      <th>Unnamed: 32</th>\n",
              "      <th>Unnamed: 33</th>\n",
              "      <th>Unnamed: 34</th>\n",
              "      <th>Unnamed: 35</th>\n",
              "    </tr>\n",
              "  </thead>\n",
              "  <tbody>\n",
              "    <tr>\n",
              "      <th>count</th>\n",
              "      <td>119390.000000</td>\n",
              "      <td>119390.000000</td>\n",
              "      <td>119390.000000</td>\n",
              "      <td>119390.000000</td>\n",
              "      <td>119390.000000</td>\n",
              "      <td>119390.000000</td>\n",
              "      <td>119390.000000</td>\n",
              "      <td>119390.000000</td>\n",
              "      <td>119386.000000</td>\n",
              "      <td>119390.000000</td>\n",
              "      <td>119390.000000</td>\n",
              "      <td>119390.000000</td>\n",
              "      <td>119390.000000</td>\n",
              "      <td>119390.000000</td>\n",
              "      <td>103050.000000</td>\n",
              "      <td>6797.000000</td>\n",
              "      <td>119390.000000</td>\n",
              "      <td>119390.000000</td>\n",
              "      <td>119390.000000</td>\n",
              "      <td>119390.000000</td>\n",
              "      <td>0.0</td>\n",
              "      <td>0.0</td>\n",
              "      <td>0.0</td>\n",
              "      <td>0.0</td>\n",
              "    </tr>\n",
              "    <tr>\n",
              "      <th>mean</th>\n",
              "      <td>0.370416</td>\n",
              "      <td>104.011416</td>\n",
              "      <td>2016.156554</td>\n",
              "      <td>27.165173</td>\n",
              "      <td>15.798241</td>\n",
              "      <td>0.927599</td>\n",
              "      <td>2.500302</td>\n",
              "      <td>1.856403</td>\n",
              "      <td>0.103890</td>\n",
              "      <td>0.007949</td>\n",
              "      <td>0.031912</td>\n",
              "      <td>0.087118</td>\n",
              "      <td>0.137097</td>\n",
              "      <td>0.221124</td>\n",
              "      <td>86.693382</td>\n",
              "      <td>189.266735</td>\n",
              "      <td>2.321149</td>\n",
              "      <td>101.831122</td>\n",
              "      <td>0.062518</td>\n",
              "      <td>0.571363</td>\n",
              "      <td>NaN</td>\n",
              "      <td>NaN</td>\n",
              "      <td>NaN</td>\n",
              "      <td>NaN</td>\n",
              "    </tr>\n",
              "    <tr>\n",
              "      <th>std</th>\n",
              "      <td>0.482918</td>\n",
              "      <td>106.863097</td>\n",
              "      <td>0.707476</td>\n",
              "      <td>13.605138</td>\n",
              "      <td>8.780829</td>\n",
              "      <td>0.998613</td>\n",
              "      <td>1.908286</td>\n",
              "      <td>0.579261</td>\n",
              "      <td>0.398561</td>\n",
              "      <td>0.097436</td>\n",
              "      <td>0.175767</td>\n",
              "      <td>0.844336</td>\n",
              "      <td>1.497437</td>\n",
              "      <td>0.652306</td>\n",
              "      <td>110.774548</td>\n",
              "      <td>131.655015</td>\n",
              "      <td>17.594721</td>\n",
              "      <td>50.535790</td>\n",
              "      <td>0.245291</td>\n",
              "      <td>0.792798</td>\n",
              "      <td>NaN</td>\n",
              "      <td>NaN</td>\n",
              "      <td>NaN</td>\n",
              "      <td>NaN</td>\n",
              "    </tr>\n",
              "    <tr>\n",
              "      <th>min</th>\n",
              "      <td>0.000000</td>\n",
              "      <td>0.000000</td>\n",
              "      <td>2015.000000</td>\n",
              "      <td>1.000000</td>\n",
              "      <td>1.000000</td>\n",
              "      <td>0.000000</td>\n",
              "      <td>0.000000</td>\n",
              "      <td>0.000000</td>\n",
              "      <td>0.000000</td>\n",
              "      <td>0.000000</td>\n",
              "      <td>0.000000</td>\n",
              "      <td>0.000000</td>\n",
              "      <td>0.000000</td>\n",
              "      <td>0.000000</td>\n",
              "      <td>1.000000</td>\n",
              "      <td>6.000000</td>\n",
              "      <td>0.000000</td>\n",
              "      <td>-6.380000</td>\n",
              "      <td>0.000000</td>\n",
              "      <td>0.000000</td>\n",
              "      <td>NaN</td>\n",
              "      <td>NaN</td>\n",
              "      <td>NaN</td>\n",
              "      <td>NaN</td>\n",
              "    </tr>\n",
              "    <tr>\n",
              "      <th>25%</th>\n",
              "      <td>0.000000</td>\n",
              "      <td>18.000000</td>\n",
              "      <td>2016.000000</td>\n",
              "      <td>16.000000</td>\n",
              "      <td>8.000000</td>\n",
              "      <td>0.000000</td>\n",
              "      <td>1.000000</td>\n",
              "      <td>2.000000</td>\n",
              "      <td>0.000000</td>\n",
              "      <td>0.000000</td>\n",
              "      <td>0.000000</td>\n",
              "      <td>0.000000</td>\n",
              "      <td>0.000000</td>\n",
              "      <td>0.000000</td>\n",
              "      <td>9.000000</td>\n",
              "      <td>62.000000</td>\n",
              "      <td>0.000000</td>\n",
              "      <td>69.290000</td>\n",
              "      <td>0.000000</td>\n",
              "      <td>0.000000</td>\n",
              "      <td>NaN</td>\n",
              "      <td>NaN</td>\n",
              "      <td>NaN</td>\n",
              "      <td>NaN</td>\n",
              "    </tr>\n",
              "    <tr>\n",
              "      <th>50%</th>\n",
              "      <td>0.000000</td>\n",
              "      <td>69.000000</td>\n",
              "      <td>2016.000000</td>\n",
              "      <td>28.000000</td>\n",
              "      <td>16.000000</td>\n",
              "      <td>1.000000</td>\n",
              "      <td>2.000000</td>\n",
              "      <td>2.000000</td>\n",
              "      <td>0.000000</td>\n",
              "      <td>0.000000</td>\n",
              "      <td>0.000000</td>\n",
              "      <td>0.000000</td>\n",
              "      <td>0.000000</td>\n",
              "      <td>0.000000</td>\n",
              "      <td>14.000000</td>\n",
              "      <td>179.000000</td>\n",
              "      <td>0.000000</td>\n",
              "      <td>94.575000</td>\n",
              "      <td>0.000000</td>\n",
              "      <td>0.000000</td>\n",
              "      <td>NaN</td>\n",
              "      <td>NaN</td>\n",
              "      <td>NaN</td>\n",
              "      <td>NaN</td>\n",
              "    </tr>\n",
              "    <tr>\n",
              "      <th>75%</th>\n",
              "      <td>1.000000</td>\n",
              "      <td>160.000000</td>\n",
              "      <td>2017.000000</td>\n",
              "      <td>38.000000</td>\n",
              "      <td>23.000000</td>\n",
              "      <td>2.000000</td>\n",
              "      <td>3.000000</td>\n",
              "      <td>2.000000</td>\n",
              "      <td>0.000000</td>\n",
              "      <td>0.000000</td>\n",
              "      <td>0.000000</td>\n",
              "      <td>0.000000</td>\n",
              "      <td>0.000000</td>\n",
              "      <td>0.000000</td>\n",
              "      <td>229.000000</td>\n",
              "      <td>270.000000</td>\n",
              "      <td>0.000000</td>\n",
              "      <td>126.000000</td>\n",
              "      <td>0.000000</td>\n",
              "      <td>1.000000</td>\n",
              "      <td>NaN</td>\n",
              "      <td>NaN</td>\n",
              "      <td>NaN</td>\n",
              "      <td>NaN</td>\n",
              "    </tr>\n",
              "    <tr>\n",
              "      <th>max</th>\n",
              "      <td>1.000000</td>\n",
              "      <td>737.000000</td>\n",
              "      <td>2017.000000</td>\n",
              "      <td>53.000000</td>\n",
              "      <td>31.000000</td>\n",
              "      <td>19.000000</td>\n",
              "      <td>50.000000</td>\n",
              "      <td>55.000000</td>\n",
              "      <td>10.000000</td>\n",
              "      <td>10.000000</td>\n",
              "      <td>1.000000</td>\n",
              "      <td>26.000000</td>\n",
              "      <td>72.000000</td>\n",
              "      <td>21.000000</td>\n",
              "      <td>535.000000</td>\n",
              "      <td>543.000000</td>\n",
              "      <td>391.000000</td>\n",
              "      <td>5400.000000</td>\n",
              "      <td>8.000000</td>\n",
              "      <td>5.000000</td>\n",
              "      <td>NaN</td>\n",
              "      <td>NaN</td>\n",
              "      <td>NaN</td>\n",
              "      <td>NaN</td>\n",
              "    </tr>\n",
              "  </tbody>\n",
              "</table>\n",
              "</div>"
            ],
            "text/plain": [
              "         is_canceled      lead_time  ...  Unnamed: 34  Unnamed: 35\n",
              "count  119390.000000  119390.000000  ...          0.0          0.0\n",
              "mean        0.370416     104.011416  ...          NaN          NaN\n",
              "std         0.482918     106.863097  ...          NaN          NaN\n",
              "min         0.000000       0.000000  ...          NaN          NaN\n",
              "25%         0.000000      18.000000  ...          NaN          NaN\n",
              "50%         0.000000      69.000000  ...          NaN          NaN\n",
              "75%         1.000000     160.000000  ...          NaN          NaN\n",
              "max         1.000000     737.000000  ...          NaN          NaN\n",
              "\n",
              "[8 rows x 24 columns]"
            ]
          },
          "metadata": {},
          "execution_count": 45
        }
      ]
    },
    {
      "cell_type": "markdown",
      "metadata": {
        "id": "yPnT93Vx43u3"
      },
      "source": [
        "## Finding null values"
      ]
    },
    {
      "cell_type": "code",
      "metadata": {
        "id": "ZKGh65xdDd-F",
        "colab": {
          "base_uri": "https://localhost:8080/"
        },
        "outputId": "0cc69cad-4416-4614-9c96-b0c3ac7dac1a"
      },
      "source": [
        "NaN = hotel.isna().sum()\n",
        "NaN"
      ],
      "execution_count": null,
      "outputs": [
        {
          "output_type": "execute_result",
          "data": {
            "text/plain": [
              "hotel                                  0\n",
              "is_canceled                            0\n",
              "lead_time                              0\n",
              "arrival_date_year                      0\n",
              "arrival_date_month                     0\n",
              "arrival_date_week_number               0\n",
              "arrival_date_day_of_month              0\n",
              "stays_in_weekend_nights                0\n",
              "stays_in_week_nights                   0\n",
              "adults                                 0\n",
              "children                               4\n",
              "babies                                 0\n",
              "meal                                   0\n",
              "country                              488\n",
              "market_segment                         0\n",
              "distribution_channel                   0\n",
              "is_repeated_guest                      0\n",
              "previous_cancellations                 0\n",
              "previous_bookings_not_canceled         0\n",
              "reserved_room_type                     0\n",
              "assigned_room_type                     0\n",
              "booking_changes                        0\n",
              "deposit_type                           0\n",
              "agent                              16340\n",
              "company                           112593\n",
              "days_in_waiting_list                   0\n",
              "customer_type                          0\n",
              "adr                                    0\n",
              "required_car_parking_spaces            0\n",
              "total_of_special_requests              0\n",
              "reservation_status                     0\n",
              "reservation_status_date                0\n",
              "Unnamed: 32                       119390\n",
              "Unnamed: 33                       119390\n",
              "Unnamed: 34                       119390\n",
              "Unnamed: 35                       119390\n",
              "Unnamed: 36                       119363\n",
              "Unnamed: 37                       119361\n",
              "Unnamed: 38                       119362\n",
              "Unnamed: 39                       119376\n",
              "dtype: int64"
            ]
          },
          "metadata": {},
          "execution_count": 46
        }
      ]
    },
    {
      "cell_type": "code",
      "metadata": {
        "id": "2hLUg_D8ECjk"
      },
      "source": [
        ""
      ],
      "execution_count": null,
      "outputs": []
    },
    {
      "cell_type": "markdown",
      "metadata": {
        "id": "c7PbRRlhhA0R"
      },
      "source": [
        "# DATA CLEANING"
      ]
    },
    {
      "cell_type": "markdown",
      "metadata": {
        "id": "S3fgpD8z49d_"
      },
      "source": [
        "## Dropping nulls\n",
        "drop columns with nulls.\n",
        "dropping 4 null values in'Children' 488 in 'Country'. It's a negligible sum of null values that can be dropped without skewing the data. \n",
        "'agent' and 'company' are not dropped because a null value there simply means that the booking was direct. We want to keep that information. "
      ]
    },
    {
      "cell_type": "code",
      "metadata": {
        "id": "Q8W1kjZwFfZQ",
        "colab": {
          "base_uri": "https://localhost:8080/"
        },
        "outputId": "0ae25d38-fb4d-467f-df21-d5ae1a07348a"
      },
      "source": [
        "hotel = hotel.dropna(subset=['children', 'country',],axis=0)\n",
        "hotel = hotel.drop(columns=[x for x in hotel.columns if x.startswith('Unnamed')])\n",
        "\n",
        "hotel = hotel.reset_index(drop=True)\n",
        "hotel.isnull().sum()\n"
      ],
      "execution_count": null,
      "outputs": [
        {
          "output_type": "execute_result",
          "data": {
            "text/plain": [
              "hotel                                  0\n",
              "is_canceled                            0\n",
              "lead_time                              0\n",
              "arrival_date_year                      0\n",
              "arrival_date_month                     0\n",
              "arrival_date_week_number               0\n",
              "arrival_date_day_of_month              0\n",
              "stays_in_weekend_nights                0\n",
              "stays_in_week_nights                   0\n",
              "adults                                 0\n",
              "children                               0\n",
              "babies                                 0\n",
              "meal                                   0\n",
              "country                                0\n",
              "market_segment                         0\n",
              "distribution_channel                   0\n",
              "is_repeated_guest                      0\n",
              "previous_cancellations                 0\n",
              "previous_bookings_not_canceled         0\n",
              "reserved_room_type                     0\n",
              "assigned_room_type                     0\n",
              "booking_changes                        0\n",
              "deposit_type                           0\n",
              "agent                              16004\n",
              "company                           112275\n",
              "days_in_waiting_list                   0\n",
              "customer_type                          0\n",
              "adr                                    0\n",
              "required_car_parking_spaces            0\n",
              "total_of_special_requests              0\n",
              "reservation_status                     0\n",
              "reservation_status_date                0\n",
              "dtype: int64"
            ]
          },
          "metadata": {},
          "execution_count": 47
        }
      ]
    },
    {
      "cell_type": "markdown",
      "metadata": {
        "id": "KZ7F_rImwk4O"
      },
      "source": [
        "## Correlations\n",
        "\n",
        "Here, we can see that a lot of columns are correlated with our business ask of seeing if there are distinct difference between the hotel types. Encoded the hotel type to be a 1 or 0 where 1 == 'Resort Hotel' and 0 == 'City Hotel'. So, if a positive correlation, it is correlated to resort hotel. If negative, it is correlated with city hotel.\n",
        "\n",
        "This means that we will likely be able to pull out features can separate out hotel type.\n",
        "\n",
        "Also, output a heatmap of general data column correlations. Here, while the values aren't necessarily statistically significant, we can see some relationships that might be of interest to us when exploring. Like arrival_date_week_number having a negative correlation with arrival_date_year and \"children\" having a slight relationship with \"adr\"."
      ]
    },
    {
      "cell_type": "code",
      "metadata": {
        "colab": {
          "base_uri": "https://localhost:8080/"
        },
        "id": "G351cmYKwbsr",
        "outputId": "aa5ce57c-ea25-4ee0-ebbb-4e0456256018"
      },
      "source": [
        "# Output only statistically significant correlations of numerical columns against the label \"hotel\"\n",
        "for col in hotel.columns:\n",
        "  if col == 'hotel':\n",
        "    continue\n",
        "  try:\n",
        "    corr, p_value = sci.stats.pearsonr(hotel[col], hotel['hotel'].apply(lambda x: 1 if x == 'Resort Hotel' else 0))\n",
        "    if p_value < 0.05:\n",
        "      print(f\"column: {col}, correlation: {corr:.2f}, p_value: {p_value:.4f}\")\n",
        "  except:\n",
        "    continue"
      ],
      "execution_count": null,
      "outputs": [
        {
          "output_type": "stream",
          "text": [
            "column: is_canceled, correlation: -0.13, p_value: 0.0000\n",
            "column: lead_time, correlation: -0.07, p_value: 0.0000\n",
            "column: arrival_date_year, correlation: -0.03, p_value: 0.0000\n",
            "column: stays_in_weekend_nights, correlation: 0.19, p_value: 0.0000\n",
            "column: stays_in_week_nights, correlation: 0.24, p_value: 0.0000\n",
            "column: adults, correlation: 0.02, p_value: 0.0000\n",
            "column: children, correlation: 0.05, p_value: 0.0000\n",
            "column: babies, correlation: 0.04, p_value: 0.0000\n",
            "column: is_repeated_guest, correlation: 0.05, p_value: 0.0000\n",
            "column: previous_cancellations, correlation: 0.01, p_value: 0.0000\n",
            "column: booking_changes, correlation: 0.07, p_value: 0.0000\n",
            "column: days_in_waiting_list, correlation: -0.07, p_value: 0.0000\n",
            "column: adr, correlation: -0.09, p_value: 0.0000\n",
            "column: required_car_parking_spaces, correlation: 0.22, p_value: 0.0000\n",
            "column: total_of_special_requests, correlation: 0.04, p_value: 0.0000\n"
          ],
          "name": "stdout"
        }
      ]
    },
    {
      "cell_type": "code",
      "metadata": {
        "colab": {
          "base_uri": "https://localhost:8080/",
          "height": 423
        },
        "id": "7DWj53f_wGyN",
        "outputId": "6718d44d-b171-47d8-f8af-bbd00ae7e13e"
      },
      "source": [
        "sns.heatmap(hotel.corr())\n",
        "plt.show()"
      ],
      "execution_count": null,
      "outputs": [
        {
          "output_type": "display_data",
          "data": {
            "image/png": "[encoded data removed]",
            "text/plain": [
              "<Figure size 432x288 with 2 Axes>"
            ]
          },
          "metadata": {
            "needs_background": "light"
          }
        }
      ]
    },
    {
      "cell_type": "markdown",
      "metadata": {
        "id": "oW1f4Hg45Mmy"
      },
      "source": [
        "## Changing types of columns \n",
        " Turning\"agent\", \"company\",\"is_repeated guest\" and \"is_canceled\" to a string.\n",
        " 'agent' and 'company' are numeric, but are ID's. So they make more sense as a string type."
      ]
    },
    {
      "cell_type": "code",
      "metadata": {
        "id": "GhYw4f1BhfN7"
      },
      "source": [
        "hotel['agent']=hotel['agent'].astype(str)\n",
        "hotel['company'] = hotel['company'].astype(str)\n",
        "hotel['is_repeated_guest']=hotel['is_repeated_guest'].astype(str)\n",
        "hotel['is_canceled']=hotel['is_canceled'].astype(str)"
      ],
      "execution_count": null,
      "outputs": []
    },
    {
      "cell_type": "markdown",
      "metadata": {
        "id": "qBRNvZQg6wzu"
      },
      "source": [
        "## Removing rows of non-sensical data\n",
        "\n",
        "Some data entries have 0 'children', 0 'adults' and 0 'babies'. We're dropping those values. They probably represent incorrect data."
      ]
    },
    {
      "cell_type": "code",
      "metadata": {
        "id": "oMS5bRtPoxoY",
        "colab": {
          "base_uri": "https://localhost:8080/"
        },
        "outputId": "fb0473a7-5569-4364-fd82-7ad412ed6c29"
      },
      "source": [
        "zero_guests = list(hotel.loc[hotel[\"adults\"]\n",
        "                   + hotel[\"children\"]\n",
        "                   + hotel[\"babies\"]==0].index)\n",
        "hotel.drop(hotel.index[zero_guests], inplace=True)\n",
        "hotel.shape"
      ],
      "execution_count": null,
      "outputs": [
        {
          "output_type": "execute_result",
          "data": {
            "text/plain": [
              "(118728, 32)"
            ]
          },
          "metadata": {},
          "execution_count": 51
        }
      ]
    },
    {
      "cell_type": "code",
      "metadata": {
        "id": "ro_N87N4MIb9"
      },
      "source": [
        "#creating a new column with arrival date of year and month to tell time.(date and time)\n",
        "hotel['arrival_date']=hotel['arrival_date_year'].map(str)+'-'+hotel['arrival_date_day_of_month'].map(str)"
      ],
      "execution_count": null,
      "outputs": []
    },
    {
      "cell_type": "markdown",
      "metadata": {
        "id": "BCgkzm8uxbfZ"
      },
      "source": [
        "# CLEAN DATA VISUALIZATION\n",
        "Not related to our goals, but this section is to look at different column in more depth in regards to how they relate to each other."
      ]
    },
    {
      "cell_type": "markdown",
      "metadata": {
        "id": "0VAxp5IEDYNp"
      },
      "source": [
        "## Plot Adr by arrival date week number \n"
      ]
    },
    {
      "cell_type": "code",
      "metadata": {
        "id": "pTDAnz3cPIJB",
        "colab": {
          "base_uri": "https://localhost:8080/",
          "height": 280
        },
        "outputId": "47335ce9-0fea-4807-b7ce-0ebce428a69f"
      },
      "source": [
        " my_ploy = sns.lineplot(data=hotel,x='arrival_date_week_number',y='adr')"
      ],
      "execution_count": null,
      "outputs": [
        {
          "output_type": "display_data",
          "data": {
            "image/png": "[encoded data removed]",
            "text/plain": [
              "<Figure size 432x288 with 1 Axes>"
            ]
          },
          "metadata": {
            "needs_background": "light"
          }
        }
      ]
    },
    {
      "cell_type": "markdown",
      "metadata": {
        "id": "4dqvzPQJDcCt"
      },
      "source": [
        "\n",
        "\n",
        "```\n",
        "# This is formatted as code\n",
        "```\n",
        "\n",
        "## Mean adr by hotel by month\n",
        "avg daily rate in resort and city hotel by month \n",
        " For Resort hotel, highest season is August, for City Hotel is May.\n",
        "\n",
        " Resort has higher daily rates in the summer.\n",
        "City's Adr is higher year round."
      ]
    },
    {
      "cell_type": "code",
      "metadata": {
        "id": "M0E5Fq-lZCO_",
        "colab": {
          "base_uri": "https://localhost:8080/",
          "height": 421
        },
        "outputId": "868b9208-5318-4efe-fd9c-67c03a638a0d"
      },
      "source": [
        "hotel_resort = hotel[hotel['hotel']=='Resort Hotel']\n",
        "resort_hotel = hotel_resort.groupby(['arrival_date_month'])['adr'].mean().reset_index()\n",
        "\n",
        "hotel_city = hotel[hotel['hotel']=='City Hotel']\n",
        "city_hotel=hotel_city.groupby(['arrival_date_month'])['adr'].mean().reset_index()\n",
        "\n",
        "resort_hotel.merge(city_hotel,on='arrival_date_month', suffixes=('_resort','_city'))"
      ],
      "execution_count": null,
      "outputs": [
        {
          "output_type": "execute_result",
          "data": {
            "text/html": [
              "<div>\n",
              "<style scoped>\n",
              "    .dataframe tbody tr th:only-of-type {\n",
              "        vertical-align: middle;\n",
              "    }\n",
              "\n",
              "    .dataframe tbody tr th {\n",
              "        vertical-align: top;\n",
              "    }\n",
              "\n",
              "    .dataframe thead th {\n",
              "        text-align: right;\n",
              "    }\n",
              "</style>\n",
              "<table border=\"1\" class=\"dataframe\">\n",
              "  <thead>\n",
              "    <tr style=\"text-align: right;\">\n",
              "      <th></th>\n",
              "      <th>arrival_date_month</th>\n",
              "      <th>adr_resort</th>\n",
              "      <th>adr_city</th>\n",
              "    </tr>\n",
              "  </thead>\n",
              "  <tbody>\n",
              "    <tr>\n",
              "      <th>0</th>\n",
              "      <td>April</td>\n",
              "      <td>78.144752</td>\n",
              "      <td>111.397415</td>\n",
              "    </tr>\n",
              "    <tr>\n",
              "      <th>1</th>\n",
              "      <td>August</td>\n",
              "      <td>186.914071</td>\n",
              "      <td>114.895368</td>\n",
              "    </tr>\n",
              "    <tr>\n",
              "      <th>2</th>\n",
              "      <td>December</td>\n",
              "      <td>69.251749</td>\n",
              "      <td>89.209560</td>\n",
              "    </tr>\n",
              "    <tr>\n",
              "      <th>3</th>\n",
              "      <td>February</td>\n",
              "      <td>55.445661</td>\n",
              "      <td>85.327519</td>\n",
              "    </tr>\n",
              "    <tr>\n",
              "      <th>4</th>\n",
              "      <td>January</td>\n",
              "      <td>49.719668</td>\n",
              "      <td>82.754477</td>\n",
              "    </tr>\n",
              "    <tr>\n",
              "      <th>5</th>\n",
              "      <td>July</td>\n",
              "      <td>155.491181</td>\n",
              "      <td>110.945950</td>\n",
              "    </tr>\n",
              "    <tr>\n",
              "      <th>6</th>\n",
              "      <td>June</td>\n",
              "      <td>110.602658</td>\n",
              "      <td>119.186056</td>\n",
              "    </tr>\n",
              "    <tr>\n",
              "      <th>7</th>\n",
              "      <td>March</td>\n",
              "      <td>57.837386</td>\n",
              "      <td>92.973339</td>\n",
              "    </tr>\n",
              "    <tr>\n",
              "      <th>8</th>\n",
              "      <td>May</td>\n",
              "      <td>78.820186</td>\n",
              "      <td>121.764614</td>\n",
              "    </tr>\n",
              "    <tr>\n",
              "      <th>9</th>\n",
              "      <td>November</td>\n",
              "      <td>48.450142</td>\n",
              "      <td>88.372889</td>\n",
              "    </tr>\n",
              "    <tr>\n",
              "      <th>10</th>\n",
              "      <td>October</td>\n",
              "      <td>62.268221</td>\n",
              "      <td>100.184177</td>\n",
              "    </tr>\n",
              "    <tr>\n",
              "      <th>11</th>\n",
              "      <td>September</td>\n",
              "      <td>93.251291</td>\n",
              "      <td>110.120296</td>\n",
              "    </tr>\n",
              "  </tbody>\n",
              "</table>\n",
              "</div>"
            ],
            "text/plain": [
              "   arrival_date_month  adr_resort    adr_city\n",
              "0               April   78.144752  111.397415\n",
              "1              August  186.914071  114.895368\n",
              "2            December   69.251749   89.209560\n",
              "3            February   55.445661   85.327519\n",
              "4             January   49.719668   82.754477\n",
              "5                July  155.491181  110.945950\n",
              "6                June  110.602658  119.186056\n",
              "7               March   57.837386   92.973339\n",
              "8                 May   78.820186  121.764614\n",
              "9            November   48.450142   88.372889\n",
              "10            October   62.268221  100.184177\n",
              "11          September   93.251291  110.120296"
            ]
          },
          "metadata": {},
          "execution_count": 54
        }
      ]
    },
    {
      "cell_type": "markdown",
      "metadata": {
        "id": "zcTvcw_bEiCD"
      },
      "source": [
        "## See outliers\n",
        "For lead_time, booking_changes, stays_in_weekend_nights, adr.\n",
        "Creating a pairplot to compare a few kpi and observe their relatioship.\n",
        "\n",
        "There is one huge outlier in 'adr'. over 5000. We looked at the median and mean and the difference is not big enough that it might skew the data. Since the outlier is only one row, we're going to get rid of it anyway because it likely represents bad data.\n",
        "\n"
      ]
    },
    {
      "cell_type": "code",
      "metadata": {
        "id": "S5-h2-fLY9bJ",
        "colab": {
          "base_uri": "https://localhost:8080/",
          "height": 743
        },
        "outputId": "6392f953-1b15-478c-b469-3d758f3b0956"
      },
      "source": [
        "sns.pairplot(data=hotel,vars=['lead_time','booking_changes','stays_in_weekend_nights','adr'])"
      ],
      "execution_count": null,
      "outputs": [
        {
          "output_type": "execute_result",
          "data": {
            "text/plain": [
              "<seaborn.axisgrid.PairGrid at 0x7f6e9bd30ad0>"
            ]
          },
          "metadata": {},
          "execution_count": 55
        },
        {
          "output_type": "display_data",
          "data": {
            "image/png": "[encoded data removed]",
            "text/plain": [
              "<Figure size 720x720 with 20 Axes>"
            ]
          },
          "metadata": {
            "needs_background": "light"
          }
        }
      ]
    },
    {
      "cell_type": "code",
      "metadata": {
        "id": "RHDzfh7ngBuS",
        "colab": {
          "base_uri": "https://localhost:8080/"
        },
        "outputId": "32d4cacf-fcac-41ff-c7ad-0cb04bc60c1b"
      },
      "source": [
        "hotel[hotel['adr'] > 2000].shape"
      ],
      "execution_count": null,
      "outputs": [
        {
          "output_type": "execute_result",
          "data": {
            "text/plain": [
              "(1, 33)"
            ]
          },
          "metadata": {},
          "execution_count": 56
        }
      ]
    },
    {
      "cell_type": "markdown",
      "metadata": {
        "id": "Ci7AFV5foNHI"
      },
      "source": [
        "## Cancelation proportion by hotel and month\n",
        "\n",
        "There is a difference in the proportion of cancellations between City and Resort. We're going to examine various differences between city and resort hotel to come up with a strategy for the stakeholders. "
      ]
    },
    {
      "cell_type": "code",
      "metadata": {
        "id": "IfQ1XJUGzvds",
        "colab": {
          "base_uri": "https://localhost:8080/",
          "height": 280
        },
        "outputId": "6cf95da3-c3d2-494a-dcc6-19a9c2e5cb05"
      },
      "source": [
        "canceled_data = hotel.copy()\n",
        "canceled_data['_canceled_binary'] = canceled_data['is_canceled'].astype(int)\n",
        "\n",
        "sns.pointplot(x='_canceled_binary',y='arrival_date_month',data=canceled_data ,hue='hotel',dodge=True,join=False)\n",
        "plt.show()"
      ],
      "execution_count": null,
      "outputs": [
        {
          "output_type": "display_data",
          "data": {
            "image/png": "[encoded data removed]",
            "text/plain": [
              "<Figure size 432x288 with 1 Axes>"
            ]
          },
          "metadata": {
            "needs_background": "light"
          }
        }
      ]
    },
    {
      "cell_type": "markdown",
      "metadata": {
        "id": "WOZCqTiTiHBE"
      },
      "source": [
        "# DATA CLEANING PART 2"
      ]
    },
    {
      "cell_type": "markdown",
      "metadata": {
        "id": "vAU6r3-KiM4b"
      },
      "source": [
        "## Getting rid of adr outlier\n"
      ]
    },
    {
      "cell_type": "code",
      "metadata": {
        "id": "oXXEKPJNijfx"
      },
      "source": [
        "hotel = hotel[hotel['adr']<1500]"
      ],
      "execution_count": null,
      "outputs": []
    },
    {
      "cell_type": "markdown",
      "metadata": {
        "id": "xVrWNXVxi5tA"
      },
      "source": [
        "# ANALYSIS FOR PROFITABILITY"
      ]
    },
    {
      "cell_type": "markdown",
      "metadata": {
        "id": "jswIZ0IIjMcq"
      },
      "source": [
        "## Question 1\n",
        "Is Resort Hotel affected by cancelations differently than City hotel? and if yes in what way? we're running a chi square test to examine if the difference in proportion of cancelations between hotels is statistically significant.\n",
        "\n",
        "We think we should treat cancelations differently between hotels. We expect to see less cancelations in Resort as opposed to the city. If that turns out to be true. It might be wise to have a harsher policy on cancelations in the city. \n",
        "\n",
        "**Hypothesis**.  \n",
        "**H0:** \"hotel has no influence on cancelation\".  \n",
        "**H1:** \"hotel influences cancelations\"\n",
        "\n",
        "\n",
        "**Outcome**.  \n",
        "p value is less than 0.05, so we reject the null. The hotel type has an influence on number of cancelations. Looking at the contingency table and the graph above in \"[Cancelation proportion by hotel and month]\" we can see that the city has a much high proportion of cancellations than the resort"
      ]
    },
    {
      "cell_type": "code",
      "metadata": {
        "id": "I7IIseColvhl",
        "colab": {
          "base_uri": "https://localhost:8080/",
          "height": 471
        },
        "outputId": "9c868761-9c69-404f-8572-1b99ca838040"
      },
      "source": [
        "\n",
        "contingency_table = pd.crosstab(hotel['is_canceled'],\n",
        "                                hotel['hotel'], \n",
        "                                margins = False)\n",
        "print(\"Contingency table:\\n\", contingency_table)\n",
        "\n",
        "chi2, p, dof, ex = sci.stats.chi2_contingency(contingency_table)\n",
        "print('Chi2 statistic', chi2, 'p_value', p)\n",
        "\n",
        "sns.displot(hotel, x='is_canceled', hue='hotel',stat=\"density\", common_norm=False)\n",
        "plt.show()"
      ],
      "execution_count": null,
      "outputs": [
        {
          "output_type": "stream",
          "text": [
            "Contingency table:\n",
            " hotel        City Hotel  Resort Hotel\n",
            "is_canceled                          \n",
            "0                 46082         28508\n",
            "1                 33060         11077\n",
            "Chi2 statistic 2147.954748357644 p_value 0.0\n"
          ],
          "name": "stdout"
        },
        {
          "output_type": "display_data",
          "data": {
            "image/png": "[encoded data removed]",
            "text/plain": [
              "<Figure size 457.25x360 with 1 Axes>"
            ]
          },
          "metadata": {
            "needs_background": "light"
          }
        }
      ]
    },
    {
      "cell_type": "markdown",
      "metadata": {
        "id": "tGf68ovlm7FN"
      },
      "source": [
        "## Question 2\n",
        "Is there a different number of parking spaces needed depending on hotel?\n",
        "If there is we can plan for the hotels differenly to have the most efficent number of spaces. \n",
        "First we'll observe the difference with a plot, next we'll test to see if the difference is statistically significant.\n",
        "\n",
        "**Hypotheses**.  \n",
        "**H0:** hotel type has no influence on number of parking spaces required per booking.  \n",
        "**H1:** The hotel type does have influence on the number of parking spaces required per booking\n",
        "\n",
        "**Outcome**.  \n",
        "After performing the t-test, there is a significant difference in number of parking spaces between hotel types. This means, we should plan for our hotels differently in regards to amount of space leased/bought for parking.\n"
      ]
    },
    {
      "cell_type": "code",
      "metadata": {
        "id": "SaQpfjl2oiIe",
        "colab": {
          "base_uri": "https://localhost:8080/",
          "height": 402
        },
        "outputId": "f8384025-a8dd-4029-c129-aa2f14055c6d"
      },
      "source": [
        "sns.displot(hotel, x='required_car_parking_spaces', hue='hotel',stat=\"density\", common_norm=False)\n",
        "plt.title('Count of parking spaces by normalized hotel type')\n",
        "plt.show()\n",
        "\n",
        "sample_1 = hotel[hotel['hotel']=='Resort Hotel']['required_car_parking_spaces']\n",
        "sample_2 = hotel[hotel['hotel']== 'City Hotel']['required_car_parking_spaces']\n",
        "t_statistics , p_value = sci.stats.ttest_ind(sample_1, sample_2,equal_var=False) \n",
        "print(f\"t_statistic: {t_statistics} p_value: {p_value}\")"
      ],
      "execution_count": null,
      "outputs": [
        {
          "output_type": "display_data",
          "data": {
            "image/png": "[encoded data removed]",
            "text/plain": [
              "<Figure size 457.25x360 with 1 Axes>"
            ]
          },
          "metadata": {
            "needs_background": "light"
          }
        },
        {
          "output_type": "stream",
          "text": [
            "t_statistic: 61.12802085407045 p_value: 0.0\n"
          ],
          "name": "stdout"
        }
      ]
    },
    {
      "cell_type": "markdown",
      "metadata": {
        "id": "IB13C9C3tNXk"
      },
      "source": [
        "# ANALYSIS FOR CUSTOMER SEGMENTATION AND MARKETING\n",
        "\n",
        "Here we want to explore to see if we should market the different types of hotels differently and if they have a different customer base."
      ]
    },
    {
      "cell_type": "markdown",
      "metadata": {
        "id": "AqE6A5V0tg-F"
      },
      "source": [
        "## Question 1 \n",
        "I think that there is a difference in the time between a person booking their hotel room and when they arrive. I think that resort hotels likely have a longer lead time than city hotels. This would influence how we market our hotels. If the lead time for resort hotels is longer, we should market events that are happening at a later date. \n",
        "\n",
        "For example, if lead time is 6 months, we should market summer activities and deals in the winter months. And, if lead time is much shorter like a week, then we should advertise events that are happening right then.\n",
        "\n",
        "This test will tell us if we should change our marketing for resort hotels to be for events that are farther in the future.\n",
        "\n",
        "\n",
        "**Hypotheses**.  \n",
        "**H0:** There is no difference in lead time between the different hotel types.   \n",
        "**H1:** Resort hotels have a longer lead time than city hotels.\n",
        "\n",
        "**Outcome**.  \n",
        "Our t statistic was negative, and p_value, while small for the two-tailed test, the t statistic was in the incorrect part of the graph. We failed to reject null."
      ]
    },
    {
      "cell_type": "code",
      "metadata": {
        "id": "yO7uqX4_tdrQ",
        "colab": {
          "base_uri": "https://localhost:8080/",
          "height": 436
        },
        "outputId": "a99449d9-fa02-4974-e415-1c7efed491de"
      },
      "source": [
        "# Plot the difference between hotel types in regards to lead time\n",
        "sns.displot(hotel, x='lead_time', hue='hotel', stat=\"density\", common_norm=False, bins=30)\n",
        "plt.title('Lead Time Density by Hotel Type')\n",
        "plt.show()\n",
        "\n",
        "# Statistical test - t test\n",
        "\n",
        "print(\"Mean lead time for city\", sample_2.mean())\n",
        "print(\"Mean lead time for resort\", sample_1.mean())\n",
        "\n",
        "sample_1 = hotel[hotel['hotel']=='Resort Hotel']['lead_time']\n",
        "sample_2 = hotel[hotel['hotel']== 'City Hotel']['lead_time']\n",
        "\n",
        "# This is two sided\n",
        "t_statistics , p_value = sci.stats.ttest_ind(sample_1, sample_2,equal_var=False) \n",
        "\n",
        "# Change to be one sided\n",
        "p_value_one_sided = p_value/2\n",
        "print(f\"t_statistic: {t_statistics} p_value: {p_value_one_sided}\")"
      ],
      "execution_count": null,
      "outputs": [
        {
          "output_type": "display_data",
          "data": {
            "image/png": "[encoded data removed]",
            "text/plain": [
              "<Figure size 457.25x360 with 1 Axes>"
            ]
          },
          "metadata": {
            "needs_background": "light"
          }
        },
        {
          "output_type": "stream",
          "text": [
            "Mean lead time for city 0.024348639154936697\n",
            "Mean lead time for resort 0.1370215990905646\n",
            "t_statistic: -26.128059381164807 p_value: 3.234718352528085e-150\n"
          ],
          "name": "stdout"
        }
      ]
    },
    {
      "cell_type": "markdown",
      "metadata": {
        "id": "0X27EOQ7xxS_"
      },
      "source": [
        "## Question 2  \n",
        "Do the different types of hotels have a difference in number of nights people stays. If so, we should market differently. We can offer deals on booking for different amounts of stay to increase profits.\n",
        "\n",
        "For example, if in general people stay in resorts longer than in cities, we can offer monthly discounts or weekly stays to entice them to stay longer. \n",
        "\n",
        "**Hypothesis**.  \n",
        "H0: The hotel type has no influence on mean number of days a booking individual stays.   \n",
        "H1: Bookings in resort hotels are for longer than in city hotels.   \n",
        "\n",
        "**Outcome**.  \n",
        "We should change way market towards different hotels. We have shown that people tend to stay in resorts longer than city hotels. So, when we are marketing, we should have different specials for the resort hotels (offering longer stays) than the city hotels.\n"
      ]
    },
    {
      "cell_type": "code",
      "metadata": {
        "id": "gjUQh-dnvzqx",
        "colab": {
          "base_uri": "https://localhost:8080/",
          "height": 436
        },
        "outputId": "cdc441d6-d89a-4cad-ada1-e32ef140c0c9"
      },
      "source": [
        "# Statistical test - t test\n",
        "\n",
        "# Plot the difference between hotel types in regards to stays in week nights\n",
        "sns.displot(hotel, x='stays_in_week_nights', hue='hotel', stat=\"density\", common_norm=False, bins=15)\n",
        "plt.title('Number of weekday stays by normalized hotel type')\n",
        "plt.show()\n",
        "\n",
        "sample_1 = hotel[hotel['hotel']=='Resort Hotel']['stays_in_week_nights']\n",
        "sample_2 = hotel[hotel['hotel']== 'City Hotel']['stays_in_week_nights']\n",
        "\n",
        "print(\"Mean week night stays for city\", sample_2.mean())\n",
        "print(\"Mean week night stays for resort\", sample_1.mean())\n",
        "\n",
        "# This is two sided\n",
        "t_statistics , p_value = sci.stats.ttest_ind(sample_1, sample_2,equal_var=False) \n",
        "\n",
        "# Change to be one sided\n",
        "p_value_one_sided = p_value/2\n",
        "print(f\"t_statistic: {t_statistics} p_value: {p_value_one_sided}\")"
      ],
      "execution_count": null,
      "outputs": [
        {
          "output_type": "display_data",
          "data": {
            "image/png": "[encoded data removed]",
            "text/plain": [
              "<Figure size 457.25x360 with 1 Axes>"
            ]
          },
          "metadata": {
            "needs_background": "light"
          }
        },
        {
          "output_type": "stream",
          "text": [
            "Mean week night stays for city 2.180687877486038\n",
            "Mean week night stays for resort 3.1411898446381206\n",
            "t_statistic: 72.18090273272372 p_value: 0.0\n"
          ],
          "name": "stdout"
        }
      ]
    },
    {
      "cell_type": "markdown",
      "metadata": {
        "id": "YBNWXycRCi41"
      },
      "source": [
        "## Question 3\n",
        "Do people stay in different room suites in city hotels versus resort hotels? If so, we should change our marketing for resort hotels. I think that the resort hotel tends to sell more nicer rooms. If that's true, then when we market to customers, we should offer them nicer rooms or more upgrades because they probably values how nice their room is. I think people who stay at city hotels might not care as much about what type of room they stay in and care more about price than room amenities.\n",
        "\n",
        "**Hypothesis**.  \n",
        "H0: Hotel type does not influence what type of room a person books.   \n",
        "H1: Hotel type does influence what type of room a person picks.\n",
        "\n",
        "**Outcome**.  \n",
        "We reject the null hypothesis. What type of hotel a person is staying at does influence what type of room they pick. We have to be careful though, because it might be true that resorts offer different types of room and city hotels only offer A and B rooms."
      ]
    },
    {
      "cell_type": "code",
      "metadata": {
        "id": "-ztytCxHCiAA",
        "colab": {
          "base_uri": "https://localhost:8080/",
          "height": 624
        },
        "outputId": "8ca3b29c-d903-4018-9269-f1e4e6df231d"
      },
      "source": [
        "contingency_table = pd.crosstab(hotel['assigned_room_type'],\n",
        "\n",
        "                                hotel['hotel'], \n",
        "                                margins = False)\n",
        "print(\"Contingency table:\\n\", contingency_table)\n",
        "\n",
        "chi2, p, dof, ex = sci.stats.chi2_contingency(contingency_table)\n",
        "print(chi2, p)\n",
        "\n",
        "sns.displot(hotel.sort_values('assigned_room_type'), x='assigned_room_type', hue='hotel',stat=\"density\", common_norm=False)\n",
        "plt.show()"
      ],
      "execution_count": null,
      "outputs": [
        {
          "output_type": "stream",
          "text": [
            "Contingency table:\n",
            " hotel               City Hotel  Resort Hotel\n",
            "assigned_room_type                          \n",
            "A                        56960         16869\n",
            "B                         1991           159\n",
            "C                          158          2191\n",
            "D                        14971         10182\n",
            "E                         2160          5570\n",
            "F                         2018          1714\n",
            "G                          697          1838\n",
            "H                            0           708\n",
            "I                            0           353\n",
            "K                          187             0\n",
            "L                            0             1\n",
            "18127.15312611604 0.0\n"
          ],
          "name": "stdout"
        },
        {
          "output_type": "display_data",
          "data": {
            "image/png": "[encoded data removed]",
            "text/plain": [
              "<Figure size 457.25x360 with 1 Axes>"
            ]
          },
          "metadata": {
            "needs_background": "light"
          }
        }
      ]
    },
    {
      "cell_type": "markdown",
      "metadata": {
        "id": "16x3CfPMGJ4l"
      },
      "source": [
        "# Recomendations:\n",
        "1) There is a significant difference in the proportion of cancellations between City and Resort. City clients are more likely to cancel. That might influence a difference in cancelation policy between hotels. \n",
        "\n",
        "2)Clients who stay at Resort for 5 days or more and prefer higher better room types, wereas clients who stay at the city hotel stay for 1 to 2.5 days and prefer room type A. Build more type A rooms in City Hotel and more C, D, E and G rooms in Resort.\n",
        "\n",
        "3)People book more nights on avg in resort hotel and they stay in week nights. If you're going to have a special deal for booking the room the entire week you'll want to run that deal in the resort hotel.\n",
        "\n",
        "4)City Hotel has more \"no refund\" type deposit, wereas resort hotel has more \"no deposit\". While the proportion of cancelations is lower in resort hotel there are still plenty of cancelations, get a deposit even in resort hotel.\n",
        "\n",
        "\n"
      ]
    }
  ]
}